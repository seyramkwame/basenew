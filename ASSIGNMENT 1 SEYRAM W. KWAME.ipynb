{
 "cells": [
  {
   "cell_type": "markdown",
   "id": "f6bdc6fb",
   "metadata": {},
   "source": [
    "Write code to load the alumni csv dataset into a Pandas DataFrame called 'alumni'."
   ]
  },
  {
   "cell_type": "code",
   "execution_count": 40,
   "id": "2bc42992",
   "metadata": {},
   "outputs": [],
   "source": [
    "import pandas as pd\n",
    "\n",
    "alumni = pd.read_csv('alumni.csv')"
   ]
  },
  {
   "cell_type": "code",
   "execution_count": 41,
   "id": "cc9422eb",
   "metadata": {},
   "outputs": [
    {
     "name": "stdout",
     "output_type": "stream",
     "text": [
      "   Year Graduated  Gender Marital Status          Diploma Type Defaulted  \\\n",
      "0            2004    Male         Single      Standard Diploma       Yes   \n",
      "1            2005    Male        Married  College Prep Diploma        No   \n",
      "2            2006  Female         Single      Standard Diploma       Yes   \n",
      "3            2007    Male        Married      Standard Diploma        No   \n",
      "4            2006  Female       Divorced      Standard Diploma       Yes   \n",
      "\n",
      "   Salary    Fee Savings ($)  \n",
      "0  125000  10869     $86,000  \n",
      "1  100000  10869    $116,000  \n",
      "2   70000  10869     $52,000  \n",
      "3  120000  10869     $76,000  \n",
      "4   95000  11948     $52,000  \n"
     ]
    }
   ],
   "source": [
    "print(alumni.head())"
   ]
  },
  {
   "cell_type": "code",
   "execution_count": 5,
   "id": "9f8691a5",
   "metadata": {},
   "outputs": [
    {
     "name": "stdout",
     "output_type": "stream",
     "text": [
      "    Year Graduated  Gender Marital Status          Diploma Type Defaulted  \\\n",
      "83            2007    Male         Single      Standard Diploma        No   \n",
      "84            2008       M         Single  College Prep Diploma       Yes   \n",
      "85            2009    Male        Married      Standard Diploma        No   \n",
      "86            2005  Female       Divorced      Standard Diploma       Yes   \n",
      "87            2006    Male        Married      Standard Diploma       Yes   \n",
      "\n",
      "    Salary    Fee Savings ($)  \n",
      "83   75000  12066     $16,000  \n",
      "84   65000  12066     $72,000  \n",
      "85   75000  12066     $46,000  \n",
      "86  100000  12067     $32,000  \n",
      "87   75000  12067     $67,000  \n"
     ]
    }
   ],
   "source": [
    "print(alumni.tail())"
   ]
  },
  {
   "cell_type": "code",
   "execution_count": 7,
   "id": "61b46727",
   "metadata": {},
   "outputs": [
    {
     "name": "stdout",
     "output_type": "stream",
     "text": [
      "Year Graduated     int64\n",
      "Gender            object\n",
      "Marital Status    object\n",
      "Diploma Type      object\n",
      "Defaulted         object\n",
      "Salary             int64\n",
      "Fee                int64\n",
      "Savings ($)       object\n",
      "dtype: object\n"
     ]
    }
   ],
   "source": [
    "print(alumni.dtypes)"
   ]
  },
  {
   "cell_type": "code",
   "execution_count": 8,
   "id": "1c3bdaf0",
   "metadata": {},
   "outputs": [
    {
     "name": "stdout",
     "output_type": "stream",
     "text": [
      "<class 'pandas.core.frame.DataFrame'>\n",
      "RangeIndex: 88 entries, 0 to 87\n",
      "Data columns (total 8 columns):\n",
      " #   Column          Non-Null Count  Dtype \n",
      "---  ------          --------------  ----- \n",
      " 0   Year Graduated  88 non-null     int64 \n",
      " 1   Gender          88 non-null     object\n",
      " 2   Marital Status  88 non-null     object\n",
      " 3   Diploma Type    88 non-null     object\n",
      " 4   Defaulted       88 non-null     object\n",
      " 5   Salary          88 non-null     int64 \n",
      " 6   Fee             88 non-null     int64 \n",
      " 7   Savings ($)     88 non-null     object\n",
      "dtypes: int64(3), object(5)\n",
      "memory usage: 5.6+ KB\n",
      "None\n"
     ]
    }
   ],
   "source": [
    "# Get a concise summary of the dataset, including the number of non-null values in each column\n",
    "print(alumni.info())"
   ]
  },
  {
   "cell_type": "code",
   "execution_count": 9,
   "id": "66300992",
   "metadata": {},
   "outputs": [
    {
     "name": "stdout",
     "output_type": "stream",
     "text": [
      "       Year Graduated         Salary           Fee\n",
      "count       88.000000      88.000000     88.000000\n",
      "mean      2006.477273   84090.909091  11708.727273\n",
      "std          1.560852   21234.128008   1110.647949\n",
      "min       2004.000000   35000.000000  10869.000000\n",
      "25%       2005.000000   75000.000000  10968.000000\n",
      "50%       2006.500000   75000.000000  11696.000000\n",
      "75%       2008.000000   90000.000000  12058.250000\n",
      "max       2009.000000  160000.000000  20960.000000\n"
     ]
    }
   ],
   "source": [
    "# Generate various summary statistics for numerical columns in the dataset\n",
    "print(alumni.describe())"
   ]
  },
  {
   "cell_type": "code",
   "execution_count": 10,
   "id": "d7e81c4f",
   "metadata": {},
   "outputs": [
    {
     "name": "stdout",
     "output_type": "stream",
     "text": [
      "   Year Graduated  Gender Marital Status          Diploma Type Defaulted  \\\n",
      "0            2004    Male         Single      Standard Diploma       Yes   \n",
      "1            2005    Male        Married  College Prep Diploma        No   \n",
      "2            2006  Female         Single      Standard Diploma       Yes   \n",
      "3            2007    Male        Married      Standard Diploma        No   \n",
      "4            2006  Female       Divorced      Standard Diploma       Yes   \n",
      "\n",
      "   Salary    Fee Savings ($)   Savings  \n",
      "0  125000  10869     $86,000   86000.0  \n",
      "1  100000  10869    $116,000  116000.0  \n",
      "2   70000  10869     $52,000   52000.0  \n",
      "3  120000  10869     $76,000   76000.0  \n",
      "4   95000  11948     $52,000   52000.0  \n"
     ]
    }
   ],
   "source": [
    "import pandas as pd\n",
    "\n",
    "def clean_currency(curr):\n",
    "    return float(curr.replace(\",\", \"\").replace(\"$\", \"\"))\n",
    "\n",
    "# Load the alumni dataset\n",
    "alumni = pd.read_csv('alumni.csv')\n",
    "\n",
    "# Clean the Savings ($) column and create a new column called 'Savings'\n",
    "alumni['Savings'] = alumni['Savings ($)'].apply(clean_currency)\n",
    "\n",
    "# Print the first 5 rows of the updated DataFrame\n",
    "print(alumni.head())\n"
   ]
  },
  {
   "cell_type": "code",
   "execution_count": 11,
   "id": "22c830b6",
   "metadata": {},
   "outputs": [
    {
     "name": "stdout",
     "output_type": "stream",
     "text": [
      "float64\n"
     ]
    }
   ],
   "source": [
    "#Uncomment 'alumni.dtypes.Savings' to check that the type change has occurred\n",
    "print(alumni.dtypes.Savings)"
   ]
  },
  {
   "cell_type": "code",
   "execution_count": 12,
   "id": "c95e36b0",
   "metadata": {},
   "outputs": [
    {
     "data": {
      "text/plain": [
       "Male      46\n",
       "Female    39\n",
       "M          3\n",
       "Name: Gender, dtype: int64"
      ]
     },
     "execution_count": 12,
     "metadata": {},
     "output_type": "execute_result"
    }
   ],
   "source": [
    "alumni[\"Gender\"].value_counts()"
   ]
  },
  {
   "cell_type": "code",
   "execution_count": 15,
   "id": "99e688ef",
   "metadata": {},
   "outputs": [
    {
     "name": "stdout",
     "output_type": "stream",
     "text": [
      "   Year Graduated  Gender Marital Status          Diploma Type Defaulted  \\\n",
      "0            2004    Male         Single      Standard Diploma       Yes   \n",
      "1            2005    Male        Married  College Prep Diploma        No   \n",
      "2            2006  Female         Single      Standard Diploma       Yes   \n",
      "3            2007    Male        Married      Standard Diploma        No   \n",
      "4            2006  Female       Divorced      Standard Diploma       Yes   \n",
      "\n",
      "   Salary    Fee Savings ($)   Savings  \n",
      "0  125000  10869     $86,000   86000.0  \n",
      "1  100000  10869    $116,000  116000.0  \n",
      "2   70000  10869     $52,000   52000.0  \n",
      "3  120000  10869     $76,000   76000.0  \n",
      "4   95000  11948     $52,000   52000.0  \n"
     ]
    }
   ],
   "source": [
    "# Replace incorrect values in the 'Gender' column with the correct ones\n",
    "alumni[\"Gender\"].replace('^M$', 'Male', regex=True, inplace=True)\n",
    "\n",
    "# Print the first 5 rows of the updated DataFrame\n",
    "print(alumni.head())"
   ]
  },
  {
   "cell_type": "code",
   "execution_count": 16,
   "id": "6f96e288",
   "metadata": {},
   "outputs": [
    {
     "name": "stdout",
     "output_type": "stream",
     "text": [
      "   Year Graduated  Gender Marital Status          Diploma Type Defaulted  \\\n",
      "0            2004    Male         Single      Standard Diploma       Yes   \n",
      "1            2005    Male        Married  College Prep Diploma        No   \n",
      "2            2006  Female         Single      Standard Diploma       Yes   \n",
      "3            2007    Male        Married      Standard Diploma        No   \n",
      "4            2006  Female       Divorced      Standard Diploma       Yes   \n",
      "\n",
      "   Salary    Fee Savings ($)   Savings  \n",
      "0  125000  10869     $86,000   86000.0  \n",
      "1  100000  10869    $116,000  116000.0  \n",
      "2   70000  10869     $52,000   52000.0  \n",
      "3  120000  10869     $76,000   76000.0  \n",
      "4   95000  11948     $52,000   52000.0  \n"
     ]
    }
   ],
   "source": [
    "\n",
    "# Use df.loc to replace incorrect values in the 'Gender' column with the correct ones\n",
    "alumni.loc[alumni['Gender'] == 'M', 'Gender'] = 'Male'\n",
    "\n",
    "# Print the first 5 rows of the updated DataFrame\n",
    "print(alumni.head())"
   ]
  },
  {
   "cell_type": "code",
   "execution_count": 17,
   "id": "a358743c",
   "metadata": {},
   "outputs": [
    {
     "data": {
      "text/plain": [
       "Male      49\n",
       "Female    39\n",
       "Name: Gender, dtype: int64"
      ]
     },
     "execution_count": 17,
     "metadata": {},
     "output_type": "execute_result"
    }
   ],
   "source": [
    "alumni[\"Gender\"].value_counts()"
   ]
  },
  {
   "cell_type": "code",
   "execution_count": 21,
   "id": "076440bc",
   "metadata": {},
   "outputs": [
    {
     "name": "stdout",
     "output_type": "stream",
     "text": [
      "Median Salary: $75,000.00\n"
     ]
    }
   ],
   "source": [
    "median_salary = alumni['Salary'].median()\n",
    "print(\"Median Salary: ${:,.2f}\".format(median_salary))"
   ]
  },
  {
   "cell_type": "code",
   "execution_count": 22,
   "id": "9d8b5a84",
   "metadata": {},
   "outputs": [
    {
     "name": "stdout",
     "output_type": "stream",
     "text": [
      "Mean Salary: $84,090.91\n"
     ]
    }
   ],
   "source": [
    "mean_salary = alumni['Salary'].mean()\n",
    "print(\"Mean Salary: ${:,.2f}\".format(mean_salary))"
   ]
  },
  {
   "cell_type": "code",
   "execution_count": 27,
   "id": "0a6a063e",
   "metadata": {},
   "outputs": [
    {
     "name": "stdout",
     "output_type": "stream",
     "text": [
      "Standard Deviation of Salary: $21,234.13\n"
     ]
    }
   ],
   "source": [
    "stddev_salary = alumni['Salary'].std()\n",
    "print(\"Standard Deviation of Salary: ${:,.2f}\".format(stddev_salary))"
   ]
  },
  {
   "cell_type": "code",
   "execution_count": 31,
   "id": "9f27f0d9",
   "metadata": {},
   "outputs": [
    {
     "name": "stdout",
     "output_type": "stream",
     "text": [
      "Alumini paid more than $15,000 is:\n",
      "    Year Graduated Gender Marital Status      Diploma Type Defaulted  Salary  \\\n",
      "18            2006   Male        Married  Standard Diploma        No  140000   \n",
      "\n",
      "      Fee Savings ($)  Savings  \n",
      "18  20960     $72,000  72000.0  \n"
     ]
    }
   ],
   "source": [
    "#Alumini Paid more the $15,000\n",
    "PaidAlumini = alumni[alumni['Fee'] > 15000]\n",
    "\n",
    "print(\"Alumini paid more than $15,000 is:\")\n",
    "print(PaidAlumini)\n"
   ]
  },
  {
   "cell_type": "code",
   "execution_count": 33,
   "id": "53b9cb2a",
   "metadata": {},
   "outputs": [
    {
     "data": {
      "image/png": "[encoded data removed]",
      "text/plain": [
       "<Figure size 640x480 with 1 Axes>"
      ]
     },
     "metadata": {},
     "output_type": "display_data"
    },
    {
     "name": "stdout",
     "output_type": "stream",
     "text": [
      "Value counts for Diploma Type:\n",
      "Standard Diploma        65\n",
      "College Prep Diploma    23\n",
      "Name: Diploma Type, dtype: int64\n"
     ]
    }
   ],
   "source": [
    "import matplotlib.pyplot as plt\n",
    "\n",
    "# Plot a bar chart of the 'Diploma Type' column\n",
    "diploma_counts = alumni['Diploma Type'].value_counts()\n",
    "diploma_counts.plot(kind='bar')\n",
    "\n",
    "# Set the chart title and axis labels\n",
    "plt.title('Number of alumni by diploma type')\n",
    "plt.xlabel('Diploma Type')\n",
    "plt.ylabel('Number of alumni')\n",
    "\n",
    "# Display the plot\n",
    "plt.show()\n",
    "\n",
    "# Show the value counts for the 'Diploma Type' column\n",
    "print(\"Value counts for Diploma Type:\")\n",
    "print(alumni['Diploma Type'].value_counts())"
   ]
  },
  {
   "cell_type": "code",
   "execution_count": 34,
   "id": "0be406aa",
   "metadata": {},
   "outputs": [
    {
     "data": {
      "image/png": "[encoded data removed]",
      "text/plain": [
       "<Figure size 640x480 with 1 Axes>"
      ]
     },
     "metadata": {},
     "output_type": "display_data"
    }
   ],
   "source": [
    "import matplotlib.pyplot as plt\n",
    "\n",
    "# Select the 'Savings' and 'Salary' columns from the 'alumni' DataFrame\n",
    "data = alumni[['Savings', 'Salary']]\n",
    "\n",
    "# Create a box plot for the selected columns\n",
    "plt.boxplot(data.values, labels=data.columns)\n",
    "\n",
    "# Add labels and title to the plot\n",
    "plt.xlabel('Variable')\n",
    "plt.ylabel('Value')\n",
    "plt.title('Comparison of Savings and Salary')\n",
    "\n",
    "# Show the plot\n",
    "plt.show()"
   ]
  },
  {
   "cell_type": "code",
   "execution_count": 35,
   "id": "5dd6d871",
   "metadata": {},
   "outputs": [
    {
     "data": {
      "image/png": "[encoded data removed]",
      "text/plain": [
       "<Figure size 640x480 with 1 Axes>"
      ]
     },
     "metadata": {},
     "output_type": "display_data"
    }
   ],
   "source": [
    "import matplotlib.pyplot as plt\n",
    "\n",
    "# Select the 'Salary' column from the 'alumni' DataFrame\n",
    "data = alumni['Salary']\n",
    "\n",
    "# Create a histogram with 12 bins\n",
    "plt.hist(data, bins=12)\n",
    "\n",
    "# Add labels and title to the plot\n",
    "plt.xlabel('Salary')\n",
    "plt.ylabel('Frequency')\n",
    "plt.title('Distribution of Salary')\n",
    "\n",
    "# Show the plot\n",
    "plt.show()"
   ]
  },
  {
   "cell_type": "code",
   "execution_count": 36,
   "id": "5728e127",
   "metadata": {},
   "outputs": [
    {
     "data": {
      "image/png": "[encoded data removed]",
      "text/plain": [
       "<Figure size 640x480 with 1 Axes>"
      ]
     },
     "metadata": {},
     "output_type": "display_data"
    }
   ],
   "source": [
    "import matplotlib.pyplot as plt\n",
    "\n",
    "# Select the 'Salary' and 'Savings' columns from the 'alumni' DataFrame\n",
    "x = alumni['Salary']\n",
    "y = alumni['Savings']\n",
    "\n",
    "# Create a scatter plot of 'Salary' vs. 'Savings'\n",
    "plt.scatter(x, y)\n",
    "\n",
    "# Add labels and title to the plot\n",
    "plt.xlabel('Salary')\n",
    "plt.ylabel('Savings')\n",
    "plt.title('Salary vs. Savings')\n",
    "\n",
    "# Show the plot\n",
    "plt.show()"
   ]
  },
  {
   "cell_type": "code",
   "execution_count": 42,
   "id": "db76aa65",
   "metadata": {},
   "outputs": [
    {
     "name": "stdout",
     "output_type": "stream",
     "text": [
      "Defaulted       No  Yes\n",
      "Marital Status         \n",
      "Divorced         8   11\n",
      "Married         19   16\n",
      "Single           9   25\n"
     ]
    }
   ],
   "source": [
    "\n",
    "# Create a contingency table using crosstab\n",
    "contingency_table = pd.crosstab(alumni['Marital Status'], alumni['Defaulted'])\n",
    "\n",
    "# Print the contingency table\n",
    "print(contingency_table)"
   ]
  },
  {
   "cell_type": "code",
   "execution_count": null,
   "id": "22c46301",
   "metadata": {},
   "outputs": [],
   "source": []
  }
 ],
 "metadata": {
  "kernelspec": {
   "display_name": "Python 3 (ipykernel)",
   "language": "python",
   "name": "python3"
  },
  "language_info": {
   "codemirror_mode": {
    "name": "ipython",
    "version": 3
   },
   "file_extension": ".py",
   "mimetype": "text/x-python",
   "name": "python",
   "nbconvert_exporter": "python",
   "pygments_lexer": "ipython3",
   "version": "3.9.13"
  }
 },
 "nbformat": 4,
 "nbformat_minor": 5
}
